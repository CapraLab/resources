{
 "cells": [
  {
   "cell_type": "markdown",
   "metadata": {},
   "source": [
    "# Deep learning fundamentals"
   ]
  },
  {
   "cell_type": "markdown",
   "metadata": {},
   "source": [
    "## What is deep learning \n",
    "\n",
    "- Deep learning is a subfield of machine learning.\n",
    "- \"Deep\" means the idea of using successive layers of representation.\n",
    "\n",
    "<img src=\"assets/1.png\" alt=\"1\" width=\"600\"/>\n",
    "<img src=\"assets/2.png\" alt=\"1\" width=\"600\"/>\n",
    "<p style=\"text-align:right\">From \"Deep learning with python\"</p>"
   ]
  },
  {
   "cell_type": "markdown",
   "metadata": {},
   "source": [
    "## Why we use it\n",
    "\n",
    "- Superior performance\n",
    "- Simple<br>\n",
    "    Does not require feature engineering\n",
    "- Scalable<br>\n",
    "    Can be efficiently parallelled on GPUs to fit large amount of data.\n",
    "- Versatile\n",
    "    - continue train on additional data\n",
    "    - transfer learning"
   ]
  },
  {
   "cell_type": "markdown",
   "metadata": {},
   "source": [
    "## Training of a deep learning model\n",
    "\n",
    "<img src=\"assets/3.png\" alt=\"1\" width=\"500\"/>\n",
    "<p style=\"text-align:right\">From \"Deep learning with python\"</p>"
   ]
  },
  {
   "cell_type": "markdown",
   "metadata": {},
   "source": [
    "### Data transformation\n",
    "\n",
    "<img src=\"assets/neuron.png\" alt=\"1\" width=\"1000\"/>"
   ]
  },
  {
   "cell_type": "markdown",
   "metadata": {},
   "source": [
    "- Activation functions\n",
    "    - basic and go-to: ReLu (rectified linear unit)<br><br>\n",
    "        <img src=\"assets/relu.png\" alt=\"1\" width=\"300\"/>\n",
    "    - Others\n",
    "        - sigmoid, binary or multi-label classification<br>\n",
    "        $ \\text{Sigmoid}(x) = \\frac{1}{1+e^{-x}}$\n",
    "        <br><br>\n",
    "        - softmax, multi-class classification <br>\n",
    "        $\\text{Softmax}(x_{i}) = \\frac{\\exp(x_i)}{\\sum_j \\exp(x_j)}$\n",
    "        <br><br>\n",
    "        - leaky ReLu\n",
    "        - tanh"
   ]
  },
  {
   "cell_type": "markdown",
   "metadata": {},
   "source": [
    "### Common loss functions\n",
    "- classfication\n",
    "    - Binary cross entropy (binary classification) <br>\n",
    "    $ L = -{(y\\log(p) + (1 - y)\\log(1 - p))}$\n",
    "    <br><br>\n",
    "    - Categorical cross entropy (multi-class classification) <br>\n",
    "    $-\\sum_{c=1}^My_{o,c}\\log(p_{o,c})$\n",
    "    <br><br>\n",
    "    M - number of classes<br>\n",
    "    y - binary indicator (0 or 1) if class label 𝑐 is the correct classification for observation 𝑜<br>\n",
    "    p - predicted probability observation 𝑜 is of class 𝑐<br>\n",
    "    <br><br>\n",
    "\n",
    "- regression\n",
    "    - mean squared error\n",
    "    - mean absolute error\n",
    "    - huber_loss\n",
    "    - logcosh\n",
    "    \n",
    "<img src=\"assets/5.png\" alt=\"1\" width=\"800\"/>\n",
    "\n",
    "\n",
    "### Regularization\n",
    "- Dropout\n",
    "- Batchnormalization\n",
    "- Regular regulatorization techniques, such as L1/L2 norm\n",
    "- More data\n",
    "- Less model complexity"
   ]
  },
  {
   "cell_type": "markdown",
   "metadata": {},
   "source": [
    "### Optimizer\n",
    "- Basic: SGD (Stochastic gradient descent)\n",
    "- go-to optimizer: Adam (Adaptive Moment Estimation)"
   ]
  },
  {
   "cell_type": "markdown",
   "metadata": {},
   "source": [
    "<img src=\"assets/4.gif\" alt=\"4\" width=\"500\"/>"
   ]
  },
  {
   "cell_type": "markdown",
   "metadata": {},
   "source": [
    "## Common neural network structures and when to use them\n",
    "\n",
    "### Convolutional neural networks (CNN)\n",
    "- Commonly used in computer vision.\n",
    "    - hand writing recognition\n",
    "    - google photos\n",
    "    - ...\n",
    "  <br><br>  \n",
    "\n",
    "- [Convolution operation](http://cs231n.github.io/convolutional-networks/)\n",
    "    - Can be view as sliding a filter (neuron)'s weights across different positions of the input matrix.\n",
    "<img src=\"assets/conv.gif\" alt=\"4\" width=\"400\"/>\n",
    "<br><br>\n",
    "\n",
    "- Architecture overview\n",
    "    - Convolutional layer\n",
    "    - Pooling layer\n",
    "        - Max-pooling\n",
    "        - Average-pooling\n",
    "    - Fully connected layer\n",
    "<img src=\"assets/conv_arch.jpeg\" alt=\"4\" width=\"900\"/>\n",
    "<br><br>\n",
    "\n",
    "- [3d visualization of CNN](https://scs.ryerson.ca/~aharley/vis/conv/)\n",
    "- [Some Variants](https://keras.io/applications/)\n",
    "    - [Residual neural network (ResNet)](https://arxiv.org/pdf/1512.03385.pdf)\n",
    "    - [Inception](https://arxiv.org/pdf/1512.00567.pdf)\n",
    "\n",
    "\n",
    "\n",
    "### Recurrent neural networks (RNN)\n",
    "\n",
    "- Commonly used in text and sequences predictions\n",
    "    - Natural language processing, audio/video processing\n",
    "    - Alexa/Siri\n",
    "    - Machine translation\n",
    "    - ...\n",
    "     <br><br>  \n",
    "     \n",
    "- Architecture Overview\n",
    "    <img src=\"assets/rnn_arch.png\" alt=\"4\" width=\"700\"/>\n",
    "    <br><br>\n",
    "\n",
    "- Variants\n",
    "    - LSTM (Long Short Term Memory Network)\n",
    "    - GRU (Gated Recurrent Unit)"
   ]
  },
  {
   "cell_type": "markdown",
   "metadata": {},
   "source": [
    "# Some applications of Deep learning of functional genomic sequences\n",
    "\n",
    "| Models   | Structure              | REF                                                                        | Year |\n",
    "|----------|------------------------|----------------------------------------------------------------------------|------|\n",
    "| DeepBind | CNN                    | https://www.nature.com/articles/nbt.3300                                   | 2015 |\n",
    "| DeepSEA  | CNN                    | https://www.nature.com/articles/nmeth.3547                                                                           | 2015 |\n",
    "| DanQ     | CNN + LSTM             | https://www.ncbi.nlm.nih.gov/pubmed/27084946                               | 2016 |\n",
    "| Basset   | CNN                    | https://genome.cshlp.org/content/26/7/990                                  | 2016 |\n",
    "| BiRen    | Pretrained CNN + GRU   | https://academic.oup.com/bioinformatics/article/33/13/1930/3002766         | 2017 |\n",
    "| DeepCpG  | CNN                    | https://genomebiology.biomedcentral.com/articles/10.1186/s13059-017-1189-z | 2017 |\n",
    "| Expecto  | CNN, Linear regression | http://dx.doi.org/10.1038/s41588-018-0160-6                                | 2018 |"
   ]
  },
  {
   "cell_type": "markdown",
   "metadata": {},
   "source": [
    "# An example of deep learning of genomic sequences\n",
    "\n",
    "We will be using keras library as a tool to build and train a convolutional neural network for liver enhancer predictions."
   ]
  },
  {
   "cell_type": "markdown",
   "metadata": {},
   "source": [
    "## Set up environment\n",
    "\n",
    "### ACCRE GPU\n",
    "- Need to be a capra_lab_acc member\n",
    "- Have access to maxwell nodes\n",
    "- Example command\n",
    "```\n",
    "    salloc --partition=maxwell --account=capra_lab_acc --gres=gpu:1 --time=4:00:00 --mem=20G\n",
    "```  \n",
    "- [GPU Info](https://www.vanderbilt.edu/accre/documentation/parallel/)\n",
    "\n",
    "### Required libraries\n",
    "We will be using keras and tensorflow as backend.\n",
    "```\n",
    "ml GCC/6.4.0-2.28  CUDA/9.0.176  OpenMPI/2.1.1 TensorFlow/1.8.0-Python-3.6.3 Keras\n",
    "ml matplotlib scikit-learn\n",
    "ml Anaconda3\n",
    "```"
   ]
  },
  {
   "cell_type": "code",
   "execution_count": 1,
   "metadata": {},
   "outputs": [],
   "source": [
    "import sys\n",
    "import numpy as np\n",
    "from Bio import SeqIO\n",
    "from sklearn.model_selection import train_test_split\n",
    "from sklearn.preprocessing import LabelEncoder, OneHotEncoder\n",
    "\n",
    "import warnings\n",
    "warnings.filterwarnings(\"ignore\")"
   ]
  },
  {
   "cell_type": "markdown",
   "metadata": {},
   "source": [
    "## DNA sequence representation"
   ]
  },
  {
   "cell_type": "markdown",
   "metadata": {},
   "source": [
    "### One-hot-encode DNA sequences\n",
    "<img src=\"assets/onehot.png\" alt=\"4\" width=\"800\"/>"
   ]
  },
  {
   "cell_type": "code",
   "execution_count": 2,
   "metadata": {},
   "outputs": [],
   "source": [
    "def one_hot_encode(sequences):\n",
    "    \n",
    "    '''\n",
    "    One hot encode DNA sequence (channels_last)\n",
    "    Input: array of sequences\n",
    "    Output: one hot encoded sequence arrays (n, 1, 4, len)\n",
    "    '''\n",
    "    sequence_length = len(sequences[0])\n",
    "    integer_type = np.int8 if sys.version_info[0] == 2 else np.int32  # depends on Python version\n",
    "    integer_array = LabelEncoder().fit(np.array(('ACGTN',)).view(integer_type))\\\n",
    "                                  .transform(sequences.view(integer_type))\\\n",
    "                                  .reshape(len(sequences), sequence_length)\n",
    "    one_hot_encoding = OneHotEncoder(sparse=False, n_values=5)\\\n",
    "                                    .fit_transform(integer_array)\n",
    "    return one_hot_encoding.reshape(len(sequences), sequence_length, 5, 1)\\\n",
    "                            .swapaxes(1, 2)[:, [0, 1, 2, 4], :, :]\n",
    "\n",
    "\n",
    "def fasta2array(fname):\n",
    "\n",
    "    '''\n",
    "    Turn fasta sequence files to one hot encoding arrays\n",
    "    Input: fasta file name\n",
    "    Output: one hot encoded sequence arrays\n",
    "    '''\n",
    "    sequences = []\n",
    "    sequence_ids = []\n",
    "    fh = open(fname, \"rU\")\n",
    "    for record in SeqIO.parse(fh,\"fasta\"):\n",
    "        sequence_ids.append(record.id)\n",
    "        sequences.append(str(record.seq).upper())\n",
    "\n",
    "    return sequence_ids, one_hot_encode(np.array(sequences))"
   ]
  },
  {
   "cell_type": "code",
   "execution_count": 3,
   "metadata": {},
   "outputs": [],
   "source": [
    "posfn = \"../projects/EnhancerCodeConservationDNN/data/villar15/Hsap_Enhancers_gapexcluded_3000.bed4.fa\"\n",
    "negfn = \"../projects/EnhancerCodeConservationDNN/data/villar15/Hsap_Enhancers_gapexcluded_3000.bed4.1_set_nongc.fa\""
   ]
  },
  {
   "cell_type": "code",
   "execution_count": 4,
   "metadata": {},
   "outputs": [
    {
     "name": "stdout",
     "output_type": "stream",
     "text": [
      "CPU times: user 34.6 s, sys: 3.5 s, total: 38.1 s\n",
      "Wall time: 38.1 s\n"
     ]
    }
   ],
   "source": [
    "%%time\n",
    "pos_seq_ids, pos_seq_arrs = fasta2array(posfn)"
   ]
  },
  {
   "cell_type": "code",
   "execution_count": 5,
   "metadata": {},
   "outputs": [
    {
     "name": "stdout",
     "output_type": "stream",
     "text": [
      "CPU times: user 37.9 s, sys: 3.56 s, total: 41.4 s\n",
      "Wall time: 41.5 s\n"
     ]
    }
   ],
   "source": [
    "%%time\n",
    "neg_seq_ids, neg_seq_arrs = fasta2array(negfn)"
   ]
  },
  {
   "cell_type": "markdown",
   "metadata": {},
   "source": [
    "### Train, valid, test split"
   ]
  },
  {
   "cell_type": "code",
   "execution_count": 6,
   "metadata": {},
   "outputs": [],
   "source": [
    "def train_valid_test_split(pos_encoded_seqs, neg_encoded_seqs,\n",
    "                           pos_ids, neg_ids,\n",
    "                           test_frac=0.1, valid_frac=0.1):\n",
    "    '''\n",
    "    Train, valid, test split\n",
    "    Input: positive and negative one-hot-encoded sequences,\n",
    "            positive and negative sequence ids,\n",
    "           test and validation fraction.\n",
    "    Output: train, valid, test splits   \n",
    "    '''\n",
    "    # combine postives and negatives\n",
    "    pos_seq_size = pos_encoded_seqs.shape[0]\n",
    "    neg_seq_size = neg_encoded_seqs.shape[0]\n",
    "    scores = np.concatenate((np.ones(pos_seq_size),np.zeros(neg_seq_size)), axis=0)\n",
    "    ids = []\n",
    "    ids.extend(pos_ids)\n",
    "    ids.extend(neg_ids)\n",
    "    encoded_seqs = np.concatenate((pos_encoded_seqs,neg_encoded_seqs),axis=0)\n",
    "    \n",
    "    # train, valid, test split\n",
    "    X_model, X_test, y_model, y_test, id_model, id_test =\\\n",
    "             train_test_split(encoded_seqs, scores, ids, test_size=test_frac)\n",
    "    X_train, X_valid, y_train, y_valid, id_train, id_valid =\\\n",
    "             train_test_split(X_model, y_model, id_model, test_size=valid_frac)\n",
    "    \n",
    "    return X_train, X_valid, y_train, y_valid, id_train, id_valid,\\\n",
    "           X_test, y_test, id_test"
   ]
  },
  {
   "cell_type": "code",
   "execution_count": 7,
   "metadata": {},
   "outputs": [],
   "source": [
    "X_train, X_valid, y_train, y_valid, id_train, id_valid,\\\n",
    "         X_test, y_test, id_test =\\\n",
    "         train_valid_test_split(pos_seq_arrs, neg_seq_arrs,\n",
    "                                pos_seq_ids, neg_seq_ids,\n",
    "                                test_frac=0.1, valid_frac=0.1)"
   ]
  },
  {
   "cell_type": "code",
   "execution_count": 8,
   "metadata": {},
   "outputs": [
    {
     "name": "stdout",
     "output_type": "stream",
     "text": [
      " X_train: (47225, 4, 3000, 1) \n",
      " y_valid: (5248,) \n",
      " X_test: (5831, 4, 3000, 1)\n"
     ]
    }
   ],
   "source": [
    "print(\" X_train:\", X_train.shape, \"\\n\",\n",
    "      \"y_valid:\", y_valid.shape, \"\\n\",\n",
    "      \"X_test:\", X_test.shape)"
   ]
  },
  {
   "cell_type": "markdown",
   "metadata": {},
   "source": [
    "## Build a simple convolutional neural network model"
   ]
  },
  {
   "cell_type": "code",
   "execution_count": 9,
   "metadata": {},
   "outputs": [
    {
     "name": "stderr",
     "output_type": "stream",
     "text": [
      "Using TensorFlow backend.\n"
     ]
    }
   ],
   "source": [
    "from keras.models import Sequential\n",
    "from keras.layers import Conv2D, MaxPooling2D, BatchNormalization,\\\n",
    "                         Flatten, Dense, Dropout"
   ]
  },
  {
   "cell_type": "code",
   "execution_count": 10,
   "metadata": {},
   "outputs": [],
   "source": [
    "model = Sequential()\n",
    "\n",
    "# conv 1\n",
    "model.add(Conv2D(filters=32, kernel_size=(4, 16),\n",
    "                 activation=\"relu\", input_shape=(4, 3000, 1)))\n",
    "#model.add(BatchNormalization())\n",
    "model.add(MaxPooling2D(pool_size=(1, 4)))\n",
    "model.add(Dropout(0.25))\n",
    "\n",
    "# conv 2\n",
    "model.add(Conv2D(filters=32, kernel_size=(1, 8), activation=\"relu\"))\n",
    "#model.add(BatchNormalization())\n",
    "model.add(MaxPooling2D(pool_size=(1, 4)))\n",
    "model.add(Dropout(0.25))\n",
    "\n",
    "# conv 3\n",
    "model.add(Conv2D(filters=32, kernel_size=(1, 16), activation=\"relu\"))\n",
    "#model.add(BatchNormalization())\n",
    "model.add(MaxPooling2D(pool_size=(1, 4)))\n",
    "model.add(Dropout(0.25))\n",
    "\n",
    "# fc1\n",
    "model.add(Flatten())\n",
    "model.add(Dense(units=32, activation=\"relu\"))\n",
    "\n",
    "# output layer          \n",
    "model.add(Dense(units=1, activation=\"sigmoid\"))\n",
    "\n",
    "# compile\n",
    "model.compile(loss=\"binary_crossentropy\", \n",
    "              optimizer=\"adam\", \n",
    "              metrics=['acc'])"
   ]
  },
  {
   "cell_type": "code",
   "execution_count": 11,
   "metadata": {},
   "outputs": [
    {
     "name": "stdout",
     "output_type": "stream",
     "text": [
      "_________________________________________________________________\n",
      "Layer (type)                 Output Shape              Param #   \n",
      "=================================================================\n",
      "conv2d_1 (Conv2D)            (None, 1, 2985, 32)       2080      \n",
      "_________________________________________________________________\n",
      "max_pooling2d_1 (MaxPooling2 (None, 1, 746, 32)        0         \n",
      "_________________________________________________________________\n",
      "dropout_1 (Dropout)          (None, 1, 746, 32)        0         \n",
      "_________________________________________________________________\n",
      "conv2d_2 (Conv2D)            (None, 1, 739, 32)        8224      \n",
      "_________________________________________________________________\n",
      "max_pooling2d_2 (MaxPooling2 (None, 1, 184, 32)        0         \n",
      "_________________________________________________________________\n",
      "dropout_2 (Dropout)          (None, 1, 184, 32)        0         \n",
      "_________________________________________________________________\n",
      "conv2d_3 (Conv2D)            (None, 1, 169, 32)        16416     \n",
      "_________________________________________________________________\n",
      "max_pooling2d_3 (MaxPooling2 (None, 1, 42, 32)         0         \n",
      "_________________________________________________________________\n",
      "dropout_3 (Dropout)          (None, 1, 42, 32)         0         \n",
      "_________________________________________________________________\n",
      "flatten_1 (Flatten)          (None, 1344)              0         \n",
      "_________________________________________________________________\n",
      "dense_1 (Dense)              (None, 32)                43040     \n",
      "_________________________________________________________________\n",
      "dense_2 (Dense)              (None, 1)                 33        \n",
      "=================================================================\n",
      "Total params: 69,793\n",
      "Trainable params: 69,793\n",
      "Non-trainable params: 0\n",
      "_________________________________________________________________\n"
     ]
    }
   ],
   "source": [
    "model.summary()"
   ]
  },
  {
   "cell_type": "markdown",
   "metadata": {},
   "source": [
    "## Model training\n",
    "\n",
    "### Callbacks"
   ]
  },
  {
   "cell_type": "code",
   "execution_count": 12,
   "metadata": {},
   "outputs": [],
   "source": [
    "from keras.callbacks import EarlyStopping, ModelCheckpoint"
   ]
  },
  {
   "cell_type": "markdown",
   "metadata": {},
   "source": [
    "#### Early stopping\n",
    "Prevent the model from overfitting the training data"
   ]
  },
  {
   "cell_type": "code",
   "execution_count": 13,
   "metadata": {},
   "outputs": [],
   "source": [
    "early_stopping = EarlyStopping(monitor=\"val_loss\", \n",
    "                               patience=5,\n",
    "                               verbose=1)"
   ]
  },
  {
   "cell_type": "markdown",
   "metadata": {},
   "source": [
    "#### Model checkpoint\n",
    "Save the best model during training"
   ]
  },
  {
   "cell_type": "code",
   "execution_count": 14,
   "metadata": {},
   "outputs": [],
   "source": [
    "best_model = ModelCheckpoint(filepath=\"best_model.h5\",\n",
    "                             monitor=\"val_loss\", \n",
    "                             verbose=1, \n",
    "                             save_best_only=True, \n",
    "                             save_weights_only=False, \n",
    "                             mode='auto') "
   ]
  },
  {
   "cell_type": "code",
   "execution_count": 15,
   "metadata": {},
   "outputs": [],
   "source": [
    "callbacks = [early_stopping, best_model]"
   ]
  },
  {
   "cell_type": "markdown",
   "metadata": {},
   "source": [
    "### Start training"
   ]
  },
  {
   "cell_type": "code",
   "execution_count": 16,
   "metadata": {
    "scrolled": false
   },
   "outputs": [
    {
     "name": "stdout",
     "output_type": "stream",
     "text": [
      "Train on 47225 samples, validate on 5248 samples\n",
      "Epoch 1/100\n",
      "47225/47225 [==============================] - 11s 223us/step - loss: 0.6475 - acc: 0.6196 - val_loss: 0.6225 - val_acc: 0.6574\n",
      "\n",
      "Epoch 00001: val_loss improved from inf to 0.62254, saving model to best_model.h5\n",
      "Epoch 2/100\n",
      "47225/47225 [==============================] - 7s 146us/step - loss: 0.6296 - acc: 0.6423 - val_loss: 0.6110 - val_acc: 0.6755\n",
      "\n",
      "Epoch 00002: val_loss improved from 0.62254 to 0.61104, saving model to best_model.h5\n",
      "Epoch 3/100\n",
      "47225/47225 [==============================] - 7s 146us/step - loss: 0.6046 - acc: 0.6697 - val_loss: 0.5695 - val_acc: 0.7067\n",
      "\n",
      "Epoch 00003: val_loss improved from 0.61104 to 0.56947, saving model to best_model.h5\n",
      "Epoch 4/100\n",
      "47225/47225 [==============================] - 7s 146us/step - loss: 0.5819 - acc: 0.6914 - val_loss: 0.5793 - val_acc: 0.7060\n",
      "\n",
      "Epoch 00004: val_loss did not improve from 0.56947\n",
      "Epoch 5/100\n",
      "47225/47225 [==============================] - 7s 147us/step - loss: 0.5701 - acc: 0.7020 - val_loss: 0.6025 - val_acc: 0.6625\n",
      "\n",
      "Epoch 00005: val_loss did not improve from 0.56947\n",
      "Epoch 6/100\n",
      "47225/47225 [==============================] - 7s 146us/step - loss: 0.5608 - acc: 0.7077 - val_loss: 0.5448 - val_acc: 0.7214\n",
      "\n",
      "Epoch 00006: val_loss improved from 0.56947 to 0.54484, saving model to best_model.h5\n",
      "Epoch 7/100\n",
      "47225/47225 [==============================] - 7s 153us/step - loss: 0.5557 - acc: 0.7138 - val_loss: 0.5437 - val_acc: 0.7271\n",
      "\n",
      "Epoch 00007: val_loss improved from 0.54484 to 0.54369, saving model to best_model.h5\n",
      "Epoch 8/100\n",
      "47225/47225 [==============================] - 7s 157us/step - loss: 0.5470 - acc: 0.7165 - val_loss: 0.5445 - val_acc: 0.7218\n",
      "\n",
      "Epoch 00008: val_loss did not improve from 0.54369\n",
      "Epoch 9/100\n",
      "47225/47225 [==============================] - 7s 157us/step - loss: 0.5417 - acc: 0.7241 - val_loss: 0.5403 - val_acc: 0.7197\n",
      "\n",
      "Epoch 00009: val_loss improved from 0.54369 to 0.54030, saving model to best_model.h5\n",
      "Epoch 10/100\n",
      "47225/47225 [==============================] - 7s 154us/step - loss: 0.5369 - acc: 0.7267 - val_loss: 0.5331 - val_acc: 0.7247\n",
      "\n",
      "Epoch 00010: val_loss improved from 0.54030 to 0.53310, saving model to best_model.h5\n",
      "Epoch 11/100\n",
      "47225/47225 [==============================] - 7s 153us/step - loss: 0.5324 - acc: 0.7314 - val_loss: 0.5522 - val_acc: 0.7241\n",
      "\n",
      "Epoch 00011: val_loss did not improve from 0.53310\n",
      "Epoch 12/100\n",
      "47225/47225 [==============================] - 7s 153us/step - loss: 0.5321 - acc: 0.7327 - val_loss: 0.5236 - val_acc: 0.7329\n",
      "\n",
      "Epoch 00012: val_loss improved from 0.53310 to 0.52365, saving model to best_model.h5\n",
      "Epoch 13/100\n",
      "47225/47225 [==============================] - 7s 153us/step - loss: 0.5271 - acc: 0.7354 - val_loss: 0.5639 - val_acc: 0.7147\n",
      "\n",
      "Epoch 00013: val_loss did not improve from 0.52365\n",
      "Epoch 14/100\n",
      "47225/47225 [==============================] - 7s 153us/step - loss: 0.5206 - acc: 0.7383 - val_loss: 0.5230 - val_acc: 0.7336\n",
      "\n",
      "Epoch 00014: val_loss improved from 0.52365 to 0.52296, saving model to best_model.h5\n",
      "Epoch 15/100\n",
      "47225/47225 [==============================] - 7s 153us/step - loss: 0.5208 - acc: 0.7381 - val_loss: 0.5305 - val_acc: 0.7399\n",
      "\n",
      "Epoch 00015: val_loss did not improve from 0.52296\n",
      "Epoch 16/100\n",
      "47225/47225 [==============================] - 7s 153us/step - loss: 0.5158 - acc: 0.7419 - val_loss: 0.5316 - val_acc: 0.7369\n",
      "\n",
      "Epoch 00016: val_loss did not improve from 0.52296\n",
      "Epoch 17/100\n",
      "47225/47225 [==============================] - 7s 153us/step - loss: 0.5119 - acc: 0.7426 - val_loss: 0.5355 - val_acc: 0.7254\n",
      "\n",
      "Epoch 00017: val_loss did not improve from 0.52296\n",
      "Epoch 18/100\n",
      "47225/47225 [==============================] - 7s 153us/step - loss: 0.5105 - acc: 0.7446 - val_loss: 0.5233 - val_acc: 0.7361\n",
      "\n",
      "Epoch 00018: val_loss did not improve from 0.52296\n",
      "Epoch 19/100\n",
      "47225/47225 [==============================] - 7s 153us/step - loss: 0.5063 - acc: 0.7478 - val_loss: 0.5356 - val_acc: 0.7235\n",
      "\n",
      "Epoch 00019: val_loss did not improve from 0.52296\n",
      "Epoch 20/100\n",
      "47225/47225 [==============================] - 7s 153us/step - loss: 0.5048 - acc: 0.7495 - val_loss: 0.5322 - val_acc: 0.7313\n",
      "\n",
      "Epoch 00020: val_loss did not improve from 0.52296\n",
      "Epoch 21/100\n",
      "47225/47225 [==============================] - 7s 154us/step - loss: 0.5039 - acc: 0.7498 - val_loss: 0.5420 - val_acc: 0.7317\n",
      "\n",
      "Epoch 00021: val_loss did not improve from 0.52296\n",
      "Epoch 22/100\n",
      "47225/47225 [==============================] - 7s 153us/step - loss: 0.4955 - acc: 0.7552 - val_loss: 0.5397 - val_acc: 0.7317\n",
      "\n",
      "Epoch 00022: val_loss did not improve from 0.52296\n",
      "Epoch 23/100\n",
      "47225/47225 [==============================] - 7s 155us/step - loss: 0.4976 - acc: 0.7559 - val_loss: 0.5407 - val_acc: 0.7231\n",
      "\n",
      "Epoch 00023: val_loss did not improve from 0.52296\n",
      "Epoch 24/100\n",
      "47225/47225 [==============================] - 7s 155us/step - loss: 0.4990 - acc: 0.7524 - val_loss: 0.5286 - val_acc: 0.7357\n",
      "\n",
      "Epoch 00024: val_loss did not improve from 0.52296\n",
      "Epoch 00024: early stopping\n"
     ]
    }
   ],
   "source": [
    "hist = model.fit(X_train, y_train, \n",
    "                  batch_size=128, \n",
    "                  epochs=100, \n",
    "                  verbose=1, \n",
    "                  validation_data=(X_valid,y_valid),\n",
    "                  shuffle=True,\n",
    "                  callbacks=callbacks)"
   ]
  },
  {
   "cell_type": "code",
   "execution_count": 17,
   "metadata": {},
   "outputs": [],
   "source": [
    "import matplotlib as mpl\n",
    "import matplotlib.pyplot as plt\n",
    "\n",
    "mpl.rcParams[\"font.size\"] = 20\n",
    "\n",
    "def plot_training_hist(hist, acc='acc'):\n",
    "\n",
    "    fig, (ax1, ax2) = plt.subplots(2, sharex=False, figsize=(15, 8))\n",
    "\n",
    "    # plot acc history\n",
    "    ax1.plot(hist.history[acc], color='#0343DF')  # xkcd: dark blue\n",
    "    ax1.plot(hist.history['val_%s'%(acc)], color='#C65102') # xkcd: dark orange\n",
    "    ax1.set_ylabel('ACC')\n",
    "    ax1.legend(['train','validation'], loc='lower right')\n",
    "\n",
    "    # plot loss history\n",
    "    ax2.plot(hist.history['loss'], color='#0343DF')\n",
    "    ax2.plot(hist.history['val_loss'], color='#C65102')\n",
    "    ax2.set_xlabel('epoch')\n",
    "    ax2.set_ylabel('loss')\n",
    "    ax2.legend(['train','validation'], loc='upper left')\n",
    "    \n",
    "    plt.show()"
   ]
  },
  {
   "cell_type": "code",
   "execution_count": 18,
   "metadata": {
    "scrolled": false
   },
   "outputs": [
    {
     "data": {
      "image/png": "[encoded data removed]",
      "text/plain": [
       "<Figure size 1080x576 with 2 Axes>"
      ]
     },
     "metadata": {
      "needs_background": "light"
     },
     "output_type": "display_data"
    }
   ],
   "source": [
    "plot_training_hist(hist)"
   ]
  },
  {
   "cell_type": "markdown",
   "metadata": {},
   "source": [
    "## Model Evaluation"
   ]
  },
  {
   "cell_type": "code",
   "execution_count": 19,
   "metadata": {},
   "outputs": [],
   "source": [
    "from sklearn.metrics import roc_auc_score\n",
    "from sklearn.metrics import roc_curve \n",
    "from sklearn.metrics import precision_recall_curve\n",
    "from sklearn.metrics import average_precision_score\n",
    "\n",
    "def roc_pr(model, X, y):\n",
    "      \n",
    "    y_score = model.predict(X, batch_size=128, verbose=1)\n",
    "    y_class = y_score > 0.5\n",
    "    y_class = y_class.astype(int)\n",
    "\n",
    "    roc_auc = roc_auc_score(y, y_score)\n",
    "    fpr, tpr, _ = roc_curve(y, y_score)\n",
    "\n",
    "    pr_auc =  average_precision_score(y, y_score)\n",
    "    precision, recall, _ = precision_recall_curve(y, y_score)\n",
    "\n",
    "    print('auROC: %s\\nauPR: %s\\n'%(roc_auc, pr_auc))\n",
    "\n",
    "    roc_pr_plot = plt.figure(figsize=(8,16))\n",
    "    ax1 = roc_pr_plot.add_subplot(211)\n",
    "    ax1.plot(fpr, tpr, color='darkorange',lw=2, \n",
    "           label='ROC curve (area = %0.2f)' % roc_auc)\n",
    "    ax1.plot([0, 1], [0, 1], color='black', lw=2, linestyle='--')\n",
    "    ax1.set_xlim([0.0, 1.0])\n",
    "    ax1.set_ylim([0.0, 1.0])\n",
    "    ax1.set_ylabel('True Positive Rate')\n",
    "    ax1.set_title('Receiver operating characteristic')\n",
    "    ax1.legend(loc=\"lower right\")\n",
    "\n",
    "    ax2 = roc_pr_plot.add_subplot(212)\n",
    "    ax2.plot(recall, precision, lw=2, color='navy', \n",
    "           label='PR curve(area %0.2f)' % pr_auc )\n",
    "    ax2.set_xlim([0.0, 1.0])\n",
    "    ax2.set_ylim([0.0, 1.0])\n",
    "    ax2.set_xlabel('Recall')\n",
    "    ax2.set_ylabel('Precision')\n",
    "    ax2.set_title('Precision-Recall curve')\n",
    "    ax2.legend(loc=\"lower right\")\n",
    "    \n",
    "    plt.show()\n",
    "\n",
    "    return y_score, y_class"
   ]
  },
  {
   "cell_type": "code",
   "execution_count": 20,
   "metadata": {},
   "outputs": [
    {
     "name": "stdout",
     "output_type": "stream",
     "text": [
      "5831/5831 [==============================] - 1s 111us/step\n",
      "auROC: 0.8089121199608005\n",
      "auPR: 0.7806187500682785\n",
      "\n"
     ]
    },
    {
     "data": {
      "image/png": "[encoded data removed]",
      "text/plain": [
       "<Figure size 576x1152 with 2 Axes>"
      ]
     },
     "metadata": {
      "needs_background": "light"
     },
     "output_type": "display_data"
    }
   ],
   "source": [
    "y_score, y_class = roc_pr(model, X_test, y_test)"
   ]
  },
  {
   "cell_type": "markdown",
   "metadata": {},
   "source": [
    "## Other\n",
    "   - Hyperparameter selection\n",
    "       - hyperopt\n",
    "   - What is the data cannot fit in the memory?\n",
    "       - data generator"
   ]
  },
  {
   "cell_type": "markdown",
   "metadata": {},
   "source": [
    "## Model interpretation\n",
    "    - 1st layer\n",
    "      - PWM of maximally activating sequences\n",
    "    - 2nd and above\n",
    "      - back propagation gradients\n",
    "      - activation maximization"
   ]
  },
  {
   "cell_type": "markdown",
   "metadata": {},
   "source": [
    "# Resources\n",
    "- A nice compilation of general deep learning resources <br>\n",
    "https://github.com/ChristosChristofidis/awesome-deep-learning\n",
    "<br><br>\n",
    "\n",
    "- Books\n",
    "    - [Deep learning with Python, Francois Chollet](http://faculty.neu.edu.cn/yury/AAI/Textbook/Deep%20Learning%20with%20Python.pdf)\n",
    "    - http://www.deeplearningbook.org/ (Ian Goodfellow, Yoshua Bengio, Aaron Courville)\n",
    "- Online courses\n",
    "    - [stanford cs273b, Deep Learning in Genomics and Biomedicine](https://canvas.stanford.edu/courses/51037)\n",
    "    - [stanford cs231n, Convolutional Neural Networks for Visual Recognition](http://cs231n.stanford.edu/)\n",
    "    - [stanford cs230, deep learning, Andrew Ng](https://cs230.stanford.edu/)\n",
    "    - [stanford cs224d, Deep Learning for Natural Language Processing](https://cs224d.stanford.edu/index.html)\n",
    "    - Coursera, deep learning specialization, Andrew Ng\n",
    "- Deep learning literature in biology \n",
    "    - [a not comprehensive list](https://github.com/hussius/deeplearning-biology)\n",
    "- Other\n",
    "    - [The Unreasonable Effectiveness of Recurrent Neural Networks](http://karpathy.github.io/2015/05/21/rnn-effectiveness/)\n",
    "    - [Understanding LSTM Network](https://colah.github.io/posts/2015-08-Understanding-LSTMs/)\n",
    "    - [Recurrent neural network cheatsheet](https://stanford.edu/~shervine/teaching/cs-230/cheatsheet-recurrent-neural-networks)\n",
    "    - [regression loss functions](https://heartbeat.fritz.ai/5-regression-loss-functions-all-machine-learners-should-know-4fb140e9d4b0)"
   ]
  }
 ],
 "metadata": {
  "kernelspec": {
   "display_name": "Python 3",
   "language": "python",
   "name": "python3"
  },
  "language_info": {
   "codemirror_mode": {
    "name": "ipython",
    "version": 3
   },
   "file_extension": ".py",
   "mimetype": "text/x-python",
   "name": "python",
   "nbconvert_exporter": "python",
   "pygments_lexer": "ipython3",
   "version": "3.6.8"
  },
  "toc": {
   "base_numbering": 1,
   "nav_menu": {},
   "number_sections": true,
   "sideBar": true,
   "skip_h1_title": false,
   "title_cell": "Table of Contents",
   "title_sidebar": "Contents",
   "toc_cell": false,
   "toc_position": {
    "height": "calc(100% - 180px)",
    "left": "10px",
    "top": "150px",
    "width": "165px"
   },
   "toc_section_display": true,
   "toc_window_display": false
  }
 },
 "nbformat": 4,
 "nbformat_minor": 2
}
