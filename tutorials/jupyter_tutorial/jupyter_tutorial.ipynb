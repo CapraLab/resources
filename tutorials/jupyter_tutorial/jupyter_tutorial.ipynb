{
 "cells": [
  {
   "cell_type": "markdown",
   "metadata": {},
   "source": [
    "<h1 style=\"text-align:Center; color:#00A7E1;\"> Jupyter Notebook Tutorial </h1>\n",
    "<h4 style=\"text-align:Center; color:#00A7E1;\"> Mary Lauren Benton, Ling Chen, and Laura Colbran </h4> "
   ]
  },
  {
   "cell_type": "markdown",
   "metadata": {},
   "source": [
    "<center>\n",
    "[![](img/jupyter_logo.png)](https://jupyter.org/)"
   ]
  },
  {
   "cell_type": "markdown",
   "metadata": {},
   "source": [
    "<a id='Contents'></a>\n",
    "<h2 style=\"text-align:Center; color:#00A7E1;\">- Contents -</h2>\n",
    "\n",
    "<h3 style=\"text-align:left; color:#56BD46;\"> Getting Started  </h3>\n",
    "- [Overview](#what)\n",
    "- [Installation](#install) \n",
    "- [Running it via ACCRE](#accre)\n",
    "- [Kernels](#kernels)\n",
    "\n",
    "<h3 style=\"text-align:left; color:#56BD46;\"> Inside Jupyter  </h3>\n",
    "- [Markdown Cell](#markdown) \n",
    "    - [Normal markdown](#normal_markdown)\n",
    "    - [Math functions](#math_expression)<br>\n",
    "    <br>\n",
    "- [Code Cell](#codecell) \n",
    "    - [Interactive data visualization](#interactive_plotting)\n",
    "    - [Magic functions](#magic)<br>\n",
    "    <br>\n",
    "- [Raw NBconvert Cell](#rawnb)\n",
    "\n",
    "<h3 style=\"text-align:left; color:#56BD46;\"> Share your notebook!  </h3>\n",
    "- [via nbconvert](#nbconvert)\n",
    "- [via github](#github)\n",
    "- [via github gist](#gist)\n",
    " \n",
    "<h3 style=\"text-align:left; color:#56BD46;\"> Tricks and Tips  </h3>\n",
    "- [ML](#ml)\n",
    "- [et al.](#etal)\n",
    "- [hide code trick](#hidecode)\n",
    "\n",
    "<h3 style=\"text-align:left; color:#56BD46;\"> Other </h3>\n",
    "- [Useful Links](#links)"
   ]
  },
  {
   "cell_type": "markdown",
   "metadata": {},
   "source": [
    "<a id='what'></a>\n",
    "<h2 style=\"text-align:Center; color:#00A7E1;\">- Overview -</h2>\n",
    "Jupyter is designed to be an interactive way of presenting your __JU__lia, __PYT__hon, or __R__code input right next to the figures, along with explanations and comments. It's a good way to document your code and remember which exact snippet made which plot or ran which test.\n",
    "\n",
    "Jupyter had its origins in the IPython notebook, but by 2014 they'd realized that a lot of the functions they were making didn't actually depend on the language being used. So they turned the language-agnostic bits into the Jupyter Project, and kept IPython for the Python-specific aspects of it.\n",
    "\n",
    "It runs in your web browser, and you can use it to do all your text editing and coding just like normal. The difference is that it has built-in organization and makes it very easy to keep track of what you're doing. It includes a lot of the features of R Markdown files, and can be converted to many other file types, including exectuable scripts, HTML, and PDF. \n",
    "\n",
    "***\n",
    "[Contents](#Contents)"
   ]
  },
  {
   "cell_type": "markdown",
   "metadata": {},
   "source": [
    "<a id='install'></a>\n",
    "<h2 style=\"text-align:Center; color:#00A7E1;\">- How to Install -</h2>\n",
    "\n",
    "<h4 style=\"text-align:left; color:#FF5555;\"> Get Anaconda:  </h4>\n",
    "[Download](https://www.anaconda.com/download/) or lmod (`module load Anaconda3`)\n",
    "\n",
    "<h4 style=\"text-align:left; color:#FF5555;\"> Create a new Conda environment:  </h4>\n",
    "`conda create --name myenv`\n",
    "<h4 style=\"text-align:left; color:#FF5555;\"> Activate it:  </h4>\n",
    "`source activate myenv`\n",
    "<h4 style=\"text-align:left; color:#FF5555;\"> Start the Notebook App:  </h4>\n",
    "`jupyter notebook`\n",
    "\n",
    "You'll land here:\n",
    "<img src=\"img/jupyter_landing.png\">  \n",
    "\n",
    "\n",
    "<br>\n",
    "For this example, we'll be using the `capra_py3` environment. You can recreate it like this:\n",
    "```\n",
    "conda create --name capra_py3.6 python=3.6\n",
    "source activate capra_py3.6\n",
    "conda install rpy2 seaborn jupyterthemes nb_conda\n",
    "```\n",
    "\n",
    "<br>\n",
    "Or, you can use the `capra_py3.yml` file in the tutorial directory with: `conda env create -f capra_py3.yml`.  \n",
    "\n",
    "<br>\n",
    "_Don't worry too much about understanding this section. We'll write up a specific Conda & virtual environment tutorial._  \n",
    "\n",
    "\n",
    "\n",
    "***\n",
    "[Contents](#Contents)"
   ]
  },
  {
   "cell_type": "markdown",
   "metadata": {},
   "source": [
    "<a id='accre'></a>\n",
    "<h2 style=\"text-align:Center; color:#00A7E1;\">- Running it via ACCRE -</h2>\n",
    "\n",
    "We can edit these notebooks using the browser on your local machine. We'll launch a job on an ACCRE compute node and then \"tunnel\" in by connecting our local machine to the node. (Added bonus: you feel like you're doing some legit hacker stuff. But don't worry, it's ACCRE supported.)\n",
    "\n",
    "Let's look at the template SLURM script:"
   ]
  },
  {
   "cell_type": "code",
   "execution_count": 2,
   "metadata": {},
   "outputs": [
    {
     "name": "stdout",
     "output_type": "stream",
     "text": [
      "#!/bin/bash\r\n",
      "#SBATCH --ntasks=1\r\n",
      "#SBATCH --mem=2G               # 2Gb memory\r\n",
      "#SBATCH --time=0-04:00:00      # 4 hours\r\n",
      "#SBATCH --output=notebook.out\r\n",
      "\r\n",
      "# Once this job launches, check the node it landed on with:\r\n",
      "#      squeue --user=userid\r\n",
      "# Then open tunnel from local machine with something like:\r\n",
      "#      ssh -L 9999:vmpXXX:7777 vunetid@login.accre.vanderbilt.edu\r\n",
      "# This binds port 9999 on localhost to port 7777 on vmpXXX\r\n",
      "# Finally, point your local browser to localhost:9999\r\n",
      "\r\n",
      "PORT=7777\r\n",
      "echo To open a tunnel from local machine, \r\n",
      "echo Execute in a new terminal window:\r\n",
      "echo \"ssh -L 9999:$HOSTNAME:$PORT $(whoami)@login.accre.vanderbilt.edu\"\r\n",
      "printf '=%.0s' {1..80}\r\n",
      "echo\r\n",
      "\r\n",
      "module load Anaconda3      # load python \r\n",
      "source activate capra_py3  # load virtual environment\r\n",
      "\r\n",
      "jt -t solarizedd -f anonymous -ofs 10 -cellw 90%  # optionally set theme\r\n",
      "\r\n",
      "jupyter notebook --no-browser --ip='*' --port=${PORT}\r\n",
      "\r\n"
     ]
    }
   ],
   "source": [
    "!cat launch_nb.slurm"
   ]
  },
  {
   "cell_type": "markdown",
   "metadata": {},
   "source": [
    "With this, all you need to do is (optionally) update the conda environment and the theme command (more on that later!). Sumbit the script using `sbatch launch_nb.slurm`. \n",
    "\n",
    "<br>\n",
    "Once your job starts on ACCRE, you can `cat notebook.out` to see the copy of the `ssh` command you'll need to use. When I wrote this cell it was:\n",
    "\n",
    "<br>\n",
    "`ssh -L 9999:vmp1015:7777 bentonml@login.accre.vanderbilt.edu`\n",
    "\n",
    "<br>\n",
    "Open a new terminal window and paste that in. You will have to type your ACCRE password. Once you're logged in, you can open your favorit browser window (Chrome, Safari, etc.) and direct it to `localhost:9999/`. This should bring up Jupyter landing screen you saw above. \n",
    "\n",
    "<br>\n",
    "Voila! You're now running a Jupyter notebook on the cluster."
   ]
  },
  {
   "cell_type": "markdown",
   "metadata": {},
   "source": [
    "***\n",
    "[Contents](#Contents)"
   ]
  },
  {
   "cell_type": "markdown",
   "metadata": {},
   "source": [
    "<a id='kernels'></a>\n",
    "<h2 style=\"text-align:Center; color:#00A7E1;\">- Kernels -</h2>\n",
    "Kernels are basically the back-end that the notebook runs. By default it'll run \n",
    "whatever version of Python was installed along with Anaconda. But what if you work in another language?\n",
    "\n",
    "Use Anaconda to install another 'kernel'.\n",
    "<h4 style=\"text-align:left; color:#FF5555;\"> R:  </h4>\n",
    "```conda install -c r r-irkernel```\n",
    "\n",
    "<h4 style=\"text-align:left; color:#FF5555;\"> Julia:  </h4>\n",
    "```conda install -c conda-forge julia```\n",
    "\n",
    "Kernels are available for many, many other languages too:\n",
    "[Kernels on GitHub](https://github.com/jupyter/jupyter/wiki/Jupyter-kernels)"
   ]
  },
  {
   "cell_type": "markdown",
   "metadata": {},
   "source": [
    "One other note: If you look up in the top corner of your notebook you should see something like this:\n",
    "\n",
    "<img src=\"img/jupyter_kernelname.png\" width=40%>  \n",
    "\n",
    "<br>\n",
    "The environment name in `[brackets]` is the one that is currently running. Double check that this is the environment you intended to run. If not, choose `Kernel/Change Kernel` from the header menu and pick the one you want. \n",
    "<img src=\"img/jupyter_choosekernel.png\" width=50%>  \n",
    "\n",
    "\n",
    "***\n",
    "[Contents](#Contents)"
   ]
  },
  {
   "cell_type": "markdown",
   "metadata": {},
   "source": [
    "<h2 style=\"text-align:Center; color:#00A7E1;\">- Inside Jupyter -</h2>\n",
    "<h4 ><a id='markdown' style=\"text-align:left; color:#FF5555\">Markdown Cell:  </h4>\n",
    "- <a id='normal_markdown' style='color:#FF5555; font-weight:bold'>Normal markdown</a>: [Markdown cheat sheet](https://github.com/adam-p/markdown-here/wiki/Markdown-Cheatsheet#html)<br>\n",
    "<br>\n",
    "- <a id='math_expression' style='color:#FF5555; font-weight:bold'> Math functions</a>: \n",
    "    - `mathjax`: a javascript implementation of LaTeX that allows equations to be embedded into HTML.<br> For example, this markup: \n",
    "```\n",
    "$$\\log_{2}\\frac{\\frac{\\sum_{1}^{n}Reads_i,mod}{TotalReads_{mod}}}{\\frac{\\sum_{1}^{n}Reads_i,bg}{TotalReads_{bg}}}$$ \n",
    "```\n",
    "\n",
    "       Turns to:\n",
    "$$\\log_{2}\\frac{\\frac{\\sum_{1}^{n}Reads_i,mod}{TotalReads_{mod}}}{\\frac{\\sum_{1}^{n}Reads_i,bg}{TotalReads_{bg}}}$$ \n",
    "<br>\n",
    "<br>\n",
    "    - In a code block, `Sympy` and `LaTex` can be used for math expression too. `SymPy` is a python library for symbolic mathematics. [SymPy documentation](http://docs.sympy.org/latest/index.html). `LaTex` can be used with `%%latex` magic function:"
   ]
  },
  {
   "cell_type": "code",
   "execution_count": 1,
   "metadata": {
    "scrolled": true
   },
   "outputs": [
    {
     "data": {
      "text/latex": [
       "\\begin{align}\n",
       "\\LaTeX\\\\\n",
       "\\nabla \\times \\vec{\\mathbf{B}} -\\, \\frac1c\\, \\frac{\\partial\\vec{\\mathbf{E}}}{\\partial t} & = \\frac{4\\pi}{c}\\vec{\\mathbf{j}} \\\\\n",
       "\\nabla \\cdot \\vec{\\mathbf{E}} & = 4 \\pi \\rho \\\\\n",
       "\\nabla \\times \\vec{\\mathbf{E}}\\, +\\, \\frac1c\\, \\frac{\\partial\\vec{\\mathbf{B}}}{\\partial t} & = \\vec{\\mathbf{0}} \\\\\n",
       "\\nabla \\cdot \\vec{\\mathbf{B}} & = 0\n",
       "\\end{align}"
      ],
      "text/plain": [
       "<IPython.core.display.Latex object>"
      ]
     },
     "metadata": {},
     "output_type": "display_data"
    }
   ],
   "source": [
    "%%latex\n",
    "\\begin{align}\n",
    "\\LaTeX\\\\\n",
    "\\nabla \\times \\vec{\\mathbf{B}} -\\, \\frac1c\\, \\frac{\\partial\\vec{\\mathbf{E}}}{\\partial t} & = \\frac{4\\pi}{c}\\vec{\\mathbf{j}} \\\\\n",
    "\\nabla \\cdot \\vec{\\mathbf{E}} & = 4 \\pi \\rho \\\\\n",
    "\\nabla \\times \\vec{\\mathbf{E}}\\, +\\, \\frac1c\\, \\frac{\\partial\\vec{\\mathbf{B}}}{\\partial t} & = \\vec{\\mathbf{0}} \\\\\n",
    "\\nabla \\cdot \\vec{\\mathbf{B}} & = 0\n",
    "\\end{align}"
   ]
  },
  {
   "cell_type": "markdown",
   "metadata": {},
   "source": [
    "***\n",
    "[Contents](#Contents)"
   ]
  },
  {
   "cell_type": "markdown",
   "metadata": {},
   "source": [
    "<h4 ><a id='codecell' style=\"text-align:left; color:#FF5555;\">Code Cell:  </h4>\n",
    "- <a id='interactive_plotting' style='color:#FF5555; font-weight:bold'>Interactive data visualization</a>:"
   ]
  },
  {
   "cell_type": "code",
   "execution_count": 22,
   "metadata": {},
   "outputs": [
    {
     "data": {
      "image/png": "[encoded data removed]",
      "text/plain": [
       "<Figure size 972x324 with 3 Axes>"
      ]
     },
     "metadata": {},
     "output_type": "display_data"
    }
   ],
   "source": [
    "%matplotlib inline\n",
    "import matplotlib.pyplot as plt\n",
    "import numpy as np\n",
    "import pandas as pd\n",
    "import seaborn as sns\n",
    "\n",
    "sns.set()\n",
    "\n",
    "# Generate an example radial datast\n",
    "r = np.linspace(0, 10, num=100)\n",
    "df = pd.DataFrame({'r': r, 'slow': r, 'medium': 2 * r, 'fast': 4 * r})\n",
    "\n",
    "# Convert the dataframe to long-form or \"tidy\" format\n",
    "df = pd.melt(df, id_vars=['r'], var_name='speed', value_name='theta')\n",
    "\n",
    "# Set up a grid of axes with a polar projection\n",
    "g = sns.FacetGrid(df, col=\"speed\", hue=\"speed\",\n",
    "                  subplot_kws=dict(projection='polar'), size=4.5,\n",
    "                  sharex=False, sharey=False, despine=False)\n",
    "\n",
    "# Draw a scatterplot onto each axes in the grid\n",
    "g.map(plt.scatter, \"theta\", \"r\")\n",
    "\n",
    "plt.show()"
   ]
  },
  {
   "cell_type": "markdown",
   "metadata": {},
   "source": [
    "***\n",
    "[Contents](#Contents)"
   ]
  },
  {
   "cell_type": "markdown",
   "metadata": {},
   "source": [
    "- <a id='magic' style='color:#FF5555; font-weight:bold'>Magic functions</a>: <br>\n",
    "There are some predefined magic functions that we can call with a command line style syntax. They all start with `%` (single line usage) or `%%` (multiple lines usage)."
   ]
  },
  {
   "cell_type": "markdown",
   "metadata": {},
   "source": [
    "&nbsp;&nbsp;&nbsp;&nbsp;&nbsp;&nbsp;`%lsmagic` gives which magic commands we have available in our interpreter."
   ]
  },
  {
   "cell_type": "code",
   "execution_count": 7,
   "metadata": {
    "scrolled": false
   },
   "outputs": [
    {
     "data": {
      "application/json": {
       "cell": {
        "!": "OSMagics",
        "HTML": "Other",
        "R": "RMagics",
        "SVG": "Other",
        "bash": "Other",
        "capture": "ExecutionMagics",
        "debug": "ExecutionMagics",
        "file": "Other",
        "html": "DisplayMagics",
        "javascript": "DisplayMagics",
        "js": "DisplayMagics",
        "latex": "DisplayMagics",
        "markdown": "DisplayMagics",
        "perl": "Other",
        "prun": "ExecutionMagics",
        "pypy": "Other",
        "python": "Other",
        "python2": "Other",
        "python3": "Other",
        "ruby": "Other",
        "script": "ScriptMagics",
        "sh": "Other",
        "svg": "DisplayMagics",
        "sx": "OSMagics",
        "system": "OSMagics",
        "time": "ExecutionMagics",
        "timeit": "ExecutionMagics",
        "writefile": "OSMagics"
       },
       "line": {
        "R": "RMagics",
        "Rdevice": "RMagics",
        "Rget": "RMagics",
        "Rpull": "RMagics",
        "Rpush": "RMagics",
        "alias": "OSMagics",
        "alias_magic": "BasicMagics",
        "autocall": "AutoMagics",
        "automagic": "AutoMagics",
        "autosave": "KernelMagics",
        "bookmark": "OSMagics",
        "cat": "Other",
        "cd": "OSMagics",
        "clear": "KernelMagics",
        "colors": "BasicMagics",
        "config": "ConfigMagics",
        "connect_info": "KernelMagics",
        "cp": "Other",
        "debug": "ExecutionMagics",
        "dhist": "OSMagics",
        "dirs": "OSMagics",
        "doctest_mode": "BasicMagics",
        "ed": "Other",
        "edit": "KernelMagics",
        "env": "OSMagics",
        "gui": "BasicMagics",
        "hist": "Other",
        "history": "HistoryMagics",
        "killbgscripts": "ScriptMagics",
        "ldir": "Other",
        "less": "KernelMagics",
        "lf": "Other",
        "lk": "Other",
        "ll": "Other",
        "load": "CodeMagics",
        "load_ext": "ExtensionMagics",
        "loadpy": "CodeMagics",
        "logoff": "LoggingMagics",
        "logon": "LoggingMagics",
        "logstart": "LoggingMagics",
        "logstate": "LoggingMagics",
        "logstop": "LoggingMagics",
        "ls": "Other",
        "lsmagic": "BasicMagics",
        "lx": "Other",
        "macro": "ExecutionMagics",
        "magic": "BasicMagics",
        "man": "KernelMagics",
        "matplotlib": "PylabMagics",
        "mkdir": "Other",
        "more": "KernelMagics",
        "mv": "Other",
        "notebook": "BasicMagics",
        "page": "BasicMagics",
        "pastebin": "CodeMagics",
        "pdb": "ExecutionMagics",
        "pdef": "NamespaceMagics",
        "pdoc": "NamespaceMagics",
        "pfile": "NamespaceMagics",
        "pinfo": "NamespaceMagics",
        "pinfo2": "NamespaceMagics",
        "pip": "BasicMagics",
        "popd": "OSMagics",
        "pprint": "BasicMagics",
        "precision": "BasicMagics",
        "profile": "BasicMagics",
        "prun": "ExecutionMagics",
        "psearch": "NamespaceMagics",
        "psource": "NamespaceMagics",
        "pushd": "OSMagics",
        "pwd": "OSMagics",
        "pycat": "OSMagics",
        "pylab": "PylabMagics",
        "qtconsole": "KernelMagics",
        "quickref": "BasicMagics",
        "recall": "HistoryMagics",
        "rehashx": "OSMagics",
        "reload_ext": "ExtensionMagics",
        "rep": "Other",
        "rerun": "HistoryMagics",
        "reset": "NamespaceMagics",
        "reset_selective": "NamespaceMagics",
        "rm": "Other",
        "rmdir": "Other",
        "run": "ExecutionMagics",
        "save": "CodeMagics",
        "sc": "OSMagics",
        "set_env": "OSMagics",
        "store": "StoreMagics",
        "sx": "OSMagics",
        "system": "OSMagics",
        "tb": "ExecutionMagics",
        "time": "ExecutionMagics",
        "timeit": "ExecutionMagics",
        "unalias": "OSMagics",
        "unload_ext": "ExtensionMagics",
        "who": "NamespaceMagics",
        "who_ls": "NamespaceMagics",
        "whos": "NamespaceMagics",
        "xdel": "NamespaceMagics",
        "xmode": "BasicMagics"
       }
      },
      "text/plain": [
       "Available line magics:\n",
       "%R  %Rdevice  %Rget  %Rpull  %Rpush  %alias  %alias_magic  %autocall  %automagic  %autosave  %bookmark  %cat  %cd  %clear  %colors  %config  %connect_info  %cp  %debug  %dhist  %dirs  %doctest_mode  %ed  %edit  %env  %gui  %hist  %history  %killbgscripts  %ldir  %less  %lf  %lk  %ll  %load  %load_ext  %loadpy  %logoff  %logon  %logstart  %logstate  %logstop  %ls  %lsmagic  %lx  %macro  %magic  %man  %matplotlib  %mkdir  %more  %mv  %notebook  %page  %pastebin  %pdb  %pdef  %pdoc  %pfile  %pinfo  %pinfo2  %popd  %pprint  %precision  %profile  %prun  %psearch  %psource  %pushd  %pwd  %pycat  %pylab  %qtconsole  %quickref  %recall  %rehashx  %reload_ext  %rep  %rerun  %reset  %reset_selective  %rm  %rmdir  %run  %save  %sc  %set_env  %store  %sx  %system  %tb  %time  %timeit  %unalias  %unload_ext  %who  %who_ls  %whos  %xdel  %xmode\n",
       "\n",
       "Available cell magics:\n",
       "%%!  %%HTML  %%R  %%SVG  %%bash  %%capture  %%debug  %%file  %%html  %%javascript  %%js  %%latex  %%markdown  %%perl  %%prun  %%pypy  %%python  %%python2  %%python3  %%ruby  %%script  %%sh  %%svg  %%sx  %%system  %%time  %%timeit  %%writefile\n",
       "\n",
       "Automagic is ON, % prefix IS NOT needed for line magics."
      ]
     },
     "execution_count": 7,
     "metadata": {},
     "output_type": "execute_result"
    }
   ],
   "source": [
    "%lsmagic"
   ]
  },
  {
   "cell_type": "markdown",
   "metadata": {},
   "source": [
    "&nbsp;&nbsp;&nbsp;&nbsp;&nbsp;&nbsp;`%%bash` let you run bash commands."
   ]
  },
  {
   "cell_type": "code",
   "execution_count": 8,
   "metadata": {},
   "outputs": [
    {
     "name": "stdout",
     "output_type": "stream",
     "text": [
      "\u001b[H\u001b[2J\n",
      "\n",
      "\n",
      "                                   __  \n",
      "                                  / _)  run, silly human!\n",
      "                           .-^^^-/ /  \n",
      "                        __/       /  \n",
      "                       <__.|_|-|_|  \n",
      "\n",
      "\n",
      "\t\t\t\n",
      "\n",
      "\n"
     ]
    }
   ],
   "source": [
    "%%bash\n",
    "bash img/dino.sh danger!"
   ]
  },
  {
   "cell_type": "markdown",
   "metadata": {},
   "source": [
    "&nbsp;&nbsp;&nbsp;&nbsp;&nbsp;&nbsp;`!` can be used to run bash commands too."
   ]
  },
  {
   "cell_type": "code",
   "execution_count": 9,
   "metadata": {},
   "outputs": [
    {
     "name": "stdout",
     "output_type": "stream",
     "text": [
      "\u001b[H\u001b[2J\r\n",
      "\r\n",
      "\r\n",
      "                                   __  \r\n",
      "                                  / _)  run, silly human!\r\n",
      "                           .-^^^-/ /  \r\n",
      "                        __/       /  \r\n",
      "                       <__.|_|-|_|  \r\n",
      "\r\n",
      "\r\n",
      "\t\t\t\r\n",
      "\r\n",
      "\r\n"
     ]
    }
   ],
   "source": [
    "!bash img/dino.sh danger!"
   ]
  },
  {
   "cell_type": "markdown",
   "metadata": {},
   "source": [
    "&nbsp;&nbsp;&nbsp;&nbsp;&nbsp;&nbsp; `%time, %%time` and `%timeit, %%timeit` are useful to time the execution time of code."
   ]
  },
  {
   "cell_type": "code",
   "execution_count": 10,
   "metadata": {},
   "outputs": [
    {
     "name": "stdout",
     "output_type": "stream",
     "text": [
      "CPU times: user 0 ns, sys: 0 ns, total: 0 ns\n",
      "Wall time: 16.7 µs\n"
     ]
    }
   ],
   "source": [
    "%time x = range(1000)"
   ]
  },
  {
   "cell_type": "code",
   "execution_count": 11,
   "metadata": {},
   "outputs": [
    {
     "name": "stdout",
     "output_type": "stream",
     "text": [
      "611 ns ± 46.2 ns per loop (mean ± std. dev. of 7 runs, 1000 loops each)\n"
     ]
    }
   ],
   "source": [
    "%%timeit -n 1000\n",
    "def getx():\n",
    "    x = range(1000)\n",
    "    return x\n",
    "getx()"
   ]
  },
  {
   "cell_type": "markdown",
   "metadata": {},
   "source": [
    "&nbsp;&nbsp;&nbsp;&nbsp;&nbsp;&nbsp;`%load` can be used to load script from file."
   ]
  },
  {
   "cell_type": "code",
   "execution_count": null,
   "metadata": {},
   "outputs": [],
   "source": [
    "# %load img/dino2.sh\n",
    "printf \"\\n\\n\\n\"\n",
    "printf \"                                   __  \\n\"\n",
    "printf \"                                  / _)  \"\n",
    "printf \"                           .-^^^-/ /  \\n\"\n",
    "printf \"                        __/       /  \\n\"\n",
    "printf \"                       <__.|_|-|_|  \\n\"\n",
    "printf \"\\n\\n\\t\\t\\t\"\n",
    "printf \"\\n\\n\"\n"
   ]
  },
  {
   "cell_type": "markdown",
   "metadata": {},
   "source": [
    "&nbsp;&nbsp;&nbsp;&nbsp;&nbsp;&nbsp;`%load_ext` can load an ipython extension by its module name. One useful usage is to load ipython rmagic extension that contains a some magic functions for working with R via rpy2. This extension can be loaded as following:"
   ]
  },
  {
   "cell_type": "code",
   "execution_count": null,
   "metadata": {},
   "outputs": [],
   "source": [
    "# if we don't have rpy2 extension, we need to install it first.\n",
    "# It only supports python3.\n",
    "#!pip install rpy2"
   ]
  },
  {
   "cell_type": "code",
   "execution_count": 13,
   "metadata": {},
   "outputs": [
    {
     "name": "stdout",
     "output_type": "stream",
     "text": [
      "The rpy2.ipython extension is already loaded. To reload it, use:\n",
      "  %reload_ext rpy2.ipython\n"
     ]
    }
   ],
   "source": [
    "%load_ext rpy2.ipython"
   ]
  },
  {
   "cell_type": "markdown",
   "metadata": {},
   "source": [
    "&nbsp;&nbsp;&nbsp;&nbsp;&nbsp;&nbsp;`%store` provides lightweight persistence for python variables."
   ]
  },
  {
   "cell_type": "code",
   "execution_count": 14,
   "metadata": {},
   "outputs": [
    {
     "name": "stdout",
     "output_type": "stream",
     "text": [
      "Stored 'l' (list)\n"
     ]
    }
   ],
   "source": [
    "l = ['hello', 'world']\n",
    "%store l"
   ]
  },
  {
   "cell_type": "code",
   "execution_count": null,
   "metadata": {
    "collapsed": true
   },
   "outputs": [],
   "source": [
    "exit"
   ]
  },
  {
   "cell_type": "code",
   "execution_count": null,
   "metadata": {
    "collapsed": true
   },
   "outputs": [],
   "source": [
    "l"
   ]
  },
  {
   "cell_type": "code",
   "execution_count": 15,
   "metadata": {},
   "outputs": [],
   "source": [
    "%store -r"
   ]
  },
  {
   "cell_type": "code",
   "execution_count": 16,
   "metadata": {},
   "outputs": [
    {
     "data": {
      "text/plain": [
       "['hello', 'world']"
      ]
     },
     "execution_count": 16,
     "metadata": {},
     "output_type": "execute_result"
    }
   ],
   "source": [
    "l"
   ]
  },
  {
   "cell_type": "markdown",
   "metadata": {},
   "source": [
    "&nbsp;&nbsp;&nbsp;&nbsp;&nbsp;&nbsp;`%%writefile` can write the contents of the cell to a file. The file will be overwritten unless the -a (--append) flag is specified."
   ]
  },
  {
   "cell_type": "markdown",
   "metadata": {},
   "source": [
    "&nbsp;&nbsp;&nbsp;&nbsp;&nbsp;&nbsp;You can always see how to use a magic function by typing `?` infront of it."
   ]
  },
  {
   "cell_type": "code",
   "execution_count": 17,
   "metadata": {},
   "outputs": [],
   "source": [
    "?%%writefile"
   ]
  },
  {
   "cell_type": "markdown",
   "metadata": {},
   "source": [
    "***\n",
    "[Contents](#Contents)"
   ]
  },
  {
   "cell_type": "markdown",
   "metadata": {},
   "source": [
    "<h4><a id='rawnb' style=\"text-align:left; color:#FF5555;\">Raw NBconvert Block:</a></h4>\n",
    "It can be used for write code that we don't want to run in the notebook, or java script (see [hide code trick](#hidecode))."
   ]
  },
  {
   "cell_type": "markdown",
   "metadata": {},
   "source": [
    "<h2 style=\"text-align:Center; color:#00A7E1;\">- Share your notebook! -</h2>\n",
    "<br>\n",
    "The raw file of Jupyter notebook is a JSON document that contain text, source code, rich media output, and metadata. Each segment of the document is stored in a cell. To render and share it, here are some options. \n",
    "\n",
    "<br>\n",
    "<h4><a id='nbconvert' style=\"text-align:left; color:#FF5555;\">Convert to other formats with nbconvert:</a></h4>\n",
    "You can use the nbconvert command to convert the notebook document file to other formats, such as HTML, PDF, LaTex, Markdown, ... For instance, if we want to convert to html file, just do:\n",
    "```\n",
    "jupyter nbconvert --to html your_notebook.ipynb\n",
    "```\n",
    "<h4><a id='github' style=\"text-align:left; color:#FF5555;\">Publish notebooks on Github</a></h4>\n",
    "1. Create a repository on github.\n",
    "2. Initiate the current directory with jupyter notebooks as an git repository if not already.\n",
    "```\n",
    "ml Intel git  # Lmod load Intel compiler and git\n",
    "git init\n",
    "```\n",
    "3. Stage and commit the Jupyter notebook you want to push to github.\n",
    "```\n",
    "git add your_notebook.ipynb\n",
    "git commit -m 'some message, such as, your_notebook.ipynb added'\n",
    "```\n",
    "4. Push to github\n",
    "```\n",
    "git remote add origin your_github_repository_url\n",
    "git push -u origin master\n",
    "```\n",
    "5. Check it out on github!\n",
    "\n",
    "<br>\n",
    "<h4><a id='nbconvert' style=\"text-align:left; color:#FF5555;\">Publish as a github gist</a></h4>\n",
    "Unlike using regular github repository, if you want to share the notebook to others, you have to either make it public or add other people as collaborators. The good thing I like using github gist is that I can create it as a secrete gist that I can share with others. To do this:\n",
    "<br>\n",
    "1. Sign in to github\n",
    "2. Navigate to your [gist home page](https://gist.github.com/).\n",
    "3. Type an optional description and name for your gist.\n",
    "4. Type the text of your gist into the gist text box.\n",
    "5. We can choose to create a public gist or a secret gist.\n",
    "6. Then we can git clone the gist to our local computer and version control, pull, push the gist repository as a regular git repo.\n",
    "```\n",
    "git clone your_gist_url test_gist_notebooks\n",
    "git add your_notebook.ipynb\n",
    "git commit -m 'some message, such as, your_notebook.ipynb added'\n",
    "git remote add origin your_gist_url\n",
    "git push -u origin master\n",
    "```\n",
    "7. View the notebook on gist, or even better, on [nbviewer](http://nbviewer.jupyter.org/), just give it the gist ID!\n",
    "***\n",
    "[Contents](#Contents)"
   ]
  },
  {
   "cell_type": "markdown",
   "metadata": {},
   "source": [
    "<h2 style=\"text-align:Center; color:#00A7E1;\">- Tricks and Tips -</h2>\n",
    "\n",
    "<br>\n",
    "<h4><a id='nbconvert' style=\"text-align:left; color:#FF5555;\">Want a clean work report? Hide the code!:</a></h4>\n",
    "This is one usage of Raw NBconvert cell. Put the following script at the very beginning of the notebook in a Raw NBconvert cell. When the notebook is converted to a html file or viewed through [nbviewer](http://nbviewer.jupyter.org/) website, the code will be hidden. Here is an example jupyter [notebook](http://nbviewer.jupyter.org/github/csaid/polished_notebooks/blob/master/notebook_polished.ipynb)."
   ]
  },
  {
   "cell_type": "markdown",
   "metadata": {},
   "source": [
    "```\n",
    "<script>\n",
    "  function code_toggle() {\n",
    "    if (code_shown){\n",
    "      $('div.input').hide('500');\n",
    "      $('#toggleButton').val('Show Code')\n",
    "    } else {\n",
    "      $('div.input').show('500');\n",
    "      $('#toggleButton').val('Hide Code')\n",
    "    }\n",
    "    code_shown = !code_shown\n",
    "  }\n",
    "\n",
    "  $( document ).ready(function(){\n",
    "    code_shown=false;\n",
    "    $('div.input').hide()\n",
    "  });\n",
    "</script>\n",
    "<form action=\"javascript:code_toggle()\"><input type=\"submit\" id=\"toggleButton\" value=\"Show Code\"></form>\n",
    "```"
   ]
  },
  {
   "cell_type": "markdown",
   "metadata": {},
   "source": [
    "<h4><a id='jupytertheme' style=\"text-align:left; color:#FF5555;\">A pretty theme makes everything better:</a></h4>\n",
    "I won't write code on a white backgroud. Some people need to choose just the _right_ shade of blue for their headers. We all have quirks. Embrace them with notebook customizations using `jupyterthemes`.\n",
    "\n",
    "\n",
    "<br>\n",
    "We already installed the package into our evironment using `conda install jupyterthemes`. To activate a specific theme you type `jt -t [theme name]`. There are also a number of options to customize the font type, font size, line height, margins, cell width, and much more. I like to use the following:\n",
    "\n",
    "<br>\n",
    "`jt -t solarizedd -f anonymous -ofs 10 -cellw 90%`\n",
    "\n",
    "<br>\n",
    "This sets the [Solarized Dark theme](http://ethanschoonover.com/solarized), with [Anonymous Pro](https://www.marksimonson.com/fonts/view/anonymous-pro) as the default font. I increased the cell output font size a bit, and made the default width of my jupyter cells take up 90% of my browser window to give my code a bit of breathing room."
   ]
  },
  {
   "cell_type": "markdown",
   "metadata": {},
   "source": [
    "You can apply these themes to the figures within a notebook as well. See the difference: "
   ]
  },
  {
   "cell_type": "code",
   "execution_count": 18,
   "metadata": {},
   "outputs": [],
   "source": [
    "def rand_uniform(a,b,size=100):\n",
    "    return np.random.rand(size) * (b - a) + a"
   ]
  },
  {
   "cell_type": "code",
   "execution_count": 19,
   "metadata": {
    "scrolled": true
   },
   "outputs": [
    {
     "data": {
      "image/png": "[encoded data removed]",
      "text/plain": [
       "<Figure size 432x288 with 1 Axes>"
      ]
     },
     "metadata": {},
     "output_type": "display_data"
    }
   ],
   "source": [
    "np.random.seed(90114)  # set random seed\n",
    "\n",
    "x = np.linspace(-1,1)\n",
    "f = lambda x: np.sin(np.pi * x)\n",
    "\n",
    "dataX = rand_uniform(-1, 1, 2)\n",
    "dataY = f(dataX)\n",
    "\n",
    "best_line = np.poly1d(np.polyfit(dataX, dataY, 1))\n",
    "\n",
    "plt.plot(x,f(x),label='f(x)');\n",
    "plt.scatter(dataX, dataY, label='data set', linewidths=1, color='black', facecolor='none', s=200);\n",
    "plt.plot(x,best_line(x),'--',label='best line');"
   ]
  },
  {
   "cell_type": "code",
   "execution_count": 26,
   "metadata": {},
   "outputs": [],
   "source": [
    "# import jtplot module in notebook\n",
    "from jupyterthemes import jtplot\n",
    "\n",
    "# context == paper, notebook, talk, or poster\n",
    "jtplot.style(context='notebook', fscale=1.5)"
   ]
  },
  {
   "cell_type": "code",
   "execution_count": 27,
   "metadata": {
    "scrolled": true
   },
   "outputs": [
    {
     "data": {
      "image/png": "[encoded data removed]",
      "text/plain": [
       "<Figure size 576x504 with 1 Axes>"
      ]
     },
     "metadata": {},
     "output_type": "display_data"
    }
   ],
   "source": [
    "plt.plot(x,f(x),label='f(x)');\n",
    "plt.scatter(dataX, dataY, label='data set', linewidths=1, color='white', facecolor='none', s=200);\n",
    "plt.plot(x,best_line(x),'--',label='best line');"
   ]
  },
  {
   "cell_type": "markdown",
   "metadata": {},
   "source": [
    "More instructions and customizations can be found on the developer's Github [here](https://github.com/dunovank/jupyter-themes/)."
   ]
  },
  {
   "cell_type": "markdown",
   "metadata": {},
   "source": [
    "<h4><a id='nbconvert' style=\"text-align:left; color:#FF5555;\">Is it Python? Is it R? ...Maybe it's _BOTH_:</a></h4>\n",
    "Here's an example of some mixed language code using that `rpy2` extension we loaded earlier."
   ]
  },
  {
   "cell_type": "code",
   "execution_count": 23,
   "metadata": {},
   "outputs": [],
   "source": [
    "import scipy.stats"
   ]
  },
  {
   "cell_type": "code",
   "execution_count": null,
   "metadata": {},
   "outputs": [],
   "source": [
    "# install a quick dependency for this example\n",
    "#!conda install -y xlrd"
   ]
  },
  {
   "cell_type": "code",
   "execution_count": 24,
   "metadata": {},
   "outputs": [],
   "source": [
    "# this code is setting up some simulations to recreate Fig 1 from Mostafavi et al. 2017\n",
    "alpha = 5 * (10**-8)\n",
    "n_sims = 100\n",
    "freq_range = np.arange(0.05, 0.5, step=0.05)\n",
    "\n",
    "# set the potential allele frequency trend\n",
    "allele_fractions = np.array([1.0, 0.95, 0.9, 0.86, 0.83, 0.81, 0.8, 0.8, 0.81, 0.83, 0.86, 0.9, 0.95, 1.0])\n",
    "\n",
    "# read in age distribution data from the paper -- note: some nifty pandas tricks are hidden in here!\n",
    "age_df = pd.read_excel(\"https://doi.org/10.1371/journal.pbio.2002458.s035\", sheet_name=\"Data for Fig S2\")\n",
    "age_df['APPROX_COUNT'] = round(age_df.FREQ  * 57696)\n",
    "ages = np.array(age_df.APPROX_COUNT, dtype=int)\n",
    "\n",
    "# set the number of age groups and power values\n",
    "n_groups = len(ages)\n",
    "power_py = np.empty(len(freq_range))\n",
    "power_r  = np.empty(len(freq_range))"
   ]
  },
  {
   "cell_type": "code",
   "execution_count": 28,
   "metadata": {},
   "outputs": [
    {
     "data": {
      "image/png": "[encoded data removed]",
      "text/plain": [
       "<Figure size 576x504 with 1 Axes>"
      ]
     },
     "metadata": {},
     "output_type": "display_data"
    }
   ],
   "source": [
    "_ = plt.plot(age_df.AGEBIN.values, allele_fractions, 'o')"
   ]
  },
  {
   "cell_type": "code",
   "execution_count": 29,
   "metadata": {},
   "outputs": [],
   "source": [
    "%%R\n",
    "chisquare_r <- function(obs, exp) {\n",
    "    chi <- chisq.test(x = obs, p = exp, rescale = TRUE, correct = FALSE)\n",
    "    return(chi$p.value)\n",
    "}"
   ]
  },
  {
   "cell_type": "code",
   "execution_count": 32,
   "metadata": {},
   "outputs": [
    {
     "name": "stdout",
     "output_type": "stream",
     "text": [
      "Power (allele frequency = 0.05): 0.170, 0.170\n",
      "Power (allele frequency = 0.10): 0.480, 0.480\n",
      "Power (allele frequency = 0.15): 0.810, 0.810\n",
      "Power (allele frequency = 0.20): 0.960, 0.960\n",
      "Power (allele frequency = 0.25): 1.000, 1.000\n",
      "Power (allele frequency = 0.30): 1.000, 1.000\n",
      "Power (allele frequency = 0.35): 1.000, 1.000\n",
      "Power (allele frequency = 0.40): 1.000, 1.000\n",
      "Power (allele frequency = 0.45): 1.000, 1.000\n"
     ]
    }
   ],
   "source": [
    "for i, freq in enumerate(freq_range):\n",
    "    # set group allele frequencies\n",
    "    group_freqs = allele_fractions * freq\n",
    "    exp_freqs = [freq] * n_groups\n",
    "\n",
    "    # preallocate empty array\n",
    "    sim_p, sim_r = np.empty(n_sims), np.empty(n_sims)\n",
    "\n",
    "    # run x number of simulations at frequency\n",
    "    for sim in range(n_sims):\n",
    "        # calculate observed and expectation\n",
    "        observed = np.random.binomial(n=2*ages, p=group_freqs)\n",
    "        expected = np.random.binomial(n=2*ages, p=exp_freqs)\n",
    "\n",
    "        # rescale expected values to match R-- adjusts expected values according to proportion\n",
    "        prop_exp = expected / sum(expected)\n",
    "        scaled_exp = sum(observed) * prop_exp\n",
    "\n",
    "        # perform chi square in scipy\n",
    "        result = scipy.stats.chisquare(observed, scaled_exp)\n",
    "        sim_p[sim] = result[1]\n",
    "\n",
    "        # perform chi square in r\n",
    "        %R -i observed,expected -o result result=chisquare_r(observed, expected)\n",
    "        sim_r[sim] = result[0]\n",
    "        \n",
    "    print(\"Power (allele frequency = {:.2f}): {:.3f}, {:.3f}\".format(freq,\n",
    "                                                                     np.sum(sim_p < alpha) / float(n_sims),\n",
    "                                                                     np.sum(sim_r < alpha) / float(n_sims)))"
   ]
  },
  {
   "cell_type": "markdown",
   "metadata": {},
   "source": [
    "***\n",
    "[Contents](#Contents)"
   ]
  },
  {
   "cell_type": "markdown",
   "metadata": {},
   "source": [
    "<a id='links'></a>\n",
    "<h2 style=\"text-align:Center; color:#00A7E1;\">- Useful Links -</h2>\n",
    "\n",
    "<h4 style=\"text-align:left; color:#FF5555;\"> Additional Information:  </h4>\n",
    "[Conda Cheatsheet](https://conda.io/docs/_downloads/conda-cheatsheet.pdf)  \n",
    "[R Markdown](https://www.rstudio.com/wp-content/uploads/2015/03/rmarkdown-reference.pdf)<br>\n",
    "[Jupyter notebook cheatsheet](https://www.scribd.com/document/361177485/Jupyter-Notebook-Cheat-Sheet)<br>\n",
    "[Jupyter notebook keyboard shortcuts](https://www.cheatography.com/jorgejuan007/cheat-sheets/jupyter-notebook-editor/)\n",
    "\n",
    "<h4 style=\"text-align:left; color:#FF5555;\"> Tutorials:  </h4>\n",
    "[DataCamp](https://www.datacamp.com/community/tutorials/tutorial-jupyter-notebook)  \n",
    "[Vandy Bio8366 Ipython and Jupyter tutorial](https://github.com/fonnesbeck/Bios8366/blob/master/notebooks/Section0_1-IPython_and_Jupyter.ipynb)\n",
    "\n",
    "***\n",
    "[Contents](#Contents)"
   ]
  }
 ],
 "metadata": {
  "kernelspec": {
   "display_name": "Python [conda env:capra_py3]",
   "language": "python",
   "name": "conda-env-capra_py3-py"
  },
  "language_info": {
   "codemirror_mode": {
    "name": "ipython",
    "version": 3
   },
   "file_extension": ".py",
   "mimetype": "text/x-python",
   "name": "python",
   "nbconvert_exporter": "python",
   "pygments_lexer": "ipython3",
   "version": "3.6.5"
  }
 },
 "nbformat": 4,
 "nbformat_minor": 2
}
